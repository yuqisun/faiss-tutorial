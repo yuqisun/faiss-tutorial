{
 "cells": [
  {
   "cell_type": "code",
   "execution_count": 15,
   "id": "7268cfe5-e863-4e6a-b020-67e2f326cf9d",
   "metadata": {},
   "outputs": [
    {
     "name": "stdout",
     "output_type": "stream",
     "text": [
      "Python 3.12.3\n",
      "---\n"
     ]
    }
   ],
   "source": [
    "# !conda create --name faiss-tutorial python=3.12\n",
    "# !activate faiss-tutorial\n",
    "# !pip install jupyter\n",
    "!python --version\n",
    "print('---')\n",
    "# !pip list"
   ]
  },
  {
   "cell_type": "code",
   "execution_count": 16,
   "id": "91ecc936-f1ba-4898-aa85-637640c00ffc",
   "metadata": {},
   "outputs": [],
   "source": [
    "# !pip install pandas"
   ]
  },
  {
   "cell_type": "code",
   "execution_count": 17,
   "id": "f195c0d9-dae7-446a-b7a0-5fc7ace8bc37",
   "metadata": {},
   "outputs": [],
   "source": [
    "# !pip show pandas"
   ]
  },
  {
   "cell_type": "code",
   "execution_count": 8,
   "id": "a3acf746-04cd-4215-8ad4-f2e295be2abc",
   "metadata": {},
   "outputs": [],
   "source": [
    "import requests\n",
    "from io import StringIO\n",
    "import pandas as pd"
   ]
  },
  {
   "cell_type": "code",
   "execution_count": 9,
   "id": "00db8742-7389-433a-addc-17ab361ebe7c",
   "metadata": {},
   "outputs": [
    {
     "data": {
      "text/html": [
       "<div>\n",
       "<style scoped>\n",
       "    .dataframe tbody tr th:only-of-type {\n",
       "        vertical-align: middle;\n",
       "    }\n",
       "\n",
       "    .dataframe tbody tr th {\n",
       "        vertical-align: top;\n",
       "    }\n",
       "\n",
       "    .dataframe thead th {\n",
       "        text-align: right;\n",
       "    }\n",
       "</style>\n",
       "<table border=\"1\" class=\"dataframe\">\n",
       "  <thead>\n",
       "    <tr style=\"text-align: right;\">\n",
       "      <th></th>\n",
       "      <th>pair_ID</th>\n",
       "      <th>sentence_A</th>\n",
       "      <th>sentence_B</th>\n",
       "      <th>relatedness_score</th>\n",
       "      <th>entailment_judgment</th>\n",
       "    </tr>\n",
       "  </thead>\n",
       "  <tbody>\n",
       "    <tr>\n",
       "      <th>0</th>\n",
       "      <td>1</td>\n",
       "      <td>A group of kids is playing in a yard and an ol...</td>\n",
       "      <td>A group of boys in a yard is playing and a man...</td>\n",
       "      <td>4.5</td>\n",
       "      <td>NEUTRAL</td>\n",
       "    </tr>\n",
       "    <tr>\n",
       "      <th>1</th>\n",
       "      <td>2</td>\n",
       "      <td>A group of children is playing in the house an...</td>\n",
       "      <td>A group of kids is playing in a yard and an ol...</td>\n",
       "      <td>3.2</td>\n",
       "      <td>NEUTRAL</td>\n",
       "    </tr>\n",
       "    <tr>\n",
       "      <th>2</th>\n",
       "      <td>3</td>\n",
       "      <td>The young boys are playing outdoors and the ma...</td>\n",
       "      <td>The kids are playing outdoors near a man with ...</td>\n",
       "      <td>4.7</td>\n",
       "      <td>ENTAILMENT</td>\n",
       "    </tr>\n",
       "    <tr>\n",
       "      <th>3</th>\n",
       "      <td>5</td>\n",
       "      <td>The kids are playing outdoors near a man with ...</td>\n",
       "      <td>A group of kids is playing in a yard and an ol...</td>\n",
       "      <td>3.4</td>\n",
       "      <td>NEUTRAL</td>\n",
       "    </tr>\n",
       "    <tr>\n",
       "      <th>4</th>\n",
       "      <td>9</td>\n",
       "      <td>The young boys are playing outdoors and the ma...</td>\n",
       "      <td>A group of kids is playing in a yard and an ol...</td>\n",
       "      <td>3.7</td>\n",
       "      <td>NEUTRAL</td>\n",
       "    </tr>\n",
       "  </tbody>\n",
       "</table>\n",
       "</div>"
      ],
      "text/plain": [
       "   pair_ID                                         sentence_A  \\\n",
       "0        1  A group of kids is playing in a yard and an ol...   \n",
       "1        2  A group of children is playing in the house an...   \n",
       "2        3  The young boys are playing outdoors and the ma...   \n",
       "3        5  The kids are playing outdoors near a man with ...   \n",
       "4        9  The young boys are playing outdoors and the ma...   \n",
       "\n",
       "                                          sentence_B  relatedness_score  \\\n",
       "0  A group of boys in a yard is playing and a man...                4.5   \n",
       "1  A group of kids is playing in a yard and an ol...                3.2   \n",
       "2  The kids are playing outdoors near a man with ...                4.7   \n",
       "3  A group of kids is playing in a yard and an ol...                3.4   \n",
       "4  A group of kids is playing in a yard and an ol...                3.7   \n",
       "\n",
       "  entailment_judgment  \n",
       "0             NEUTRAL  \n",
       "1             NEUTRAL  \n",
       "2          ENTAILMENT  \n",
       "3             NEUTRAL  \n",
       "4             NEUTRAL  "
      ]
     },
     "execution_count": 9,
     "metadata": {},
     "output_type": "execute_result"
    }
   ],
   "source": [
    "res = 'SICK_train.txt'\n",
    "# create dataframe\n",
    "data = pd.read_csv((res), sep='\\t')\n",
    "data.head()"
   ]
  },
  {
   "cell_type": "code",
   "execution_count": 13,
   "id": "6c28afd4-969c-438f-b536-291450e1dc3c",
   "metadata": {},
   "outputs": [
    {
     "data": {
      "text/plain": [
       "pandas.core.frame.DataFrame"
      ]
     },
     "execution_count": 13,
     "metadata": {},
     "output_type": "execute_result"
    }
   ],
   "source": [
    "# pandas.core.frame.DataFrame\n",
    "type(data)"
   ]
  },
  {
   "cell_type": "code",
   "execution_count": 14,
   "id": "61950545-fb23-4e51-9063-cfc6eb5bef08",
   "metadata": {},
   "outputs": [
    {
     "data": {
      "text/plain": [
       "pandas.core.series.Series"
      ]
     },
     "execution_count": 14,
     "metadata": {},
     "output_type": "execute_result"
    }
   ],
   "source": [
    "# pandas.core.series.Series\n",
    "type(data['sentence_A'])"
   ]
  },
  {
   "cell_type": "code",
   "execution_count": null,
   "id": "db8cf43b-3c4c-4ca1-9ddb-1cb3df8e31ad",
   "metadata": {},
   "outputs": [],
   "source": [
    "data['sentence_A']"
   ]
  },
  {
   "cell_type": "code",
   "execution_count": 18,
   "id": "9b7b0933-9132-4995-a88a-dc12d060de4e",
   "metadata": {},
   "outputs": [
    {
     "data": {
      "text/plain": [
       "['A group of kids is playing in a yard and an old man is standing in the background',\n",
       " 'A group of children is playing in the house and there is no man standing in the background',\n",
       " 'The young boys are playing outdoors and the man is smiling nearby',\n",
       " 'The kids are playing outdoors near a man with a smile',\n",
       " 'The young boys are playing outdoors and the man is smiling nearby']"
      ]
     },
     "execution_count": 18,
     "metadata": {},
     "output_type": "execute_result"
    }
   ],
   "source": [
    "# we take all samples from both sentence A and B\n",
    "sentences = data['sentence_A'].tolist()\n",
    "sentences[:5]"
   ]
  },
  {
   "cell_type": "code",
   "execution_count": 19,
   "id": "466436cb-179d-4899-943d-de988af40d04",
   "metadata": {},
   "outputs": [
    {
     "data": {
      "text/plain": [
       "4802"
      ]
     },
     "execution_count": 19,
     "metadata": {},
     "output_type": "execute_result"
    }
   ],
   "source": [
    "# we take all samples from both sentence A and B\n",
    "sentences = data['sentence_A'].tolist()\n",
    "sentence_b = data['sentence_B'].tolist()\n",
    "sentences.extend(sentence_b)  # merge them\n",
    "len(set(sentences))  # together we have ~4.5K unique sentences"
   ]
  },
  {
   "cell_type": "code",
   "execution_count": 20,
   "id": "2e789eba-1a9c-4589-b710-102fd3399930",
   "metadata": {},
   "outputs": [],
   "source": [
    "data_file_names = [\n",
    "    'MSRpar.train.tsv',\n",
    "    'MSRpar.test.tsv',\n",
    "    'OnWN_2012.test.tsv',\n",
    "    'OnWN_2013.test.tsv',\n",
    "    'OnWN_2014.test.tsv',\n",
    "    'images_2014.test.tsv',\n",
    "    'images_2015.test.tsv'\n",
    "]"
   ]
  },
  {
   "cell_type": "code",
   "execution_count": 21,
   "id": "d8967efb-b58c-46a4-91bd-46b144243bc3",
   "metadata": {},
   "outputs": [],
   "source": [
    "# each of these dataset have the same structure, so we loop through each creating our sentences data\n",
    "for file_name in data_file_names:\n",
    "    # extract to dataframe\n",
    "    data = pd.read_csv(file_name, sep='\\t', header=None, on_bad_lines='skip')\n",
    "    # add to columns 1 and 2 to sentences list\n",
    "    sentences.extend(data[1].tolist())\n",
    "    sentences.extend(data[2].tolist())"
   ]
  },
  {
   "cell_type": "code",
   "execution_count": 22,
   "id": "4cf1aa30-24e0-4edb-9485-b369216c8713",
   "metadata": {},
   "outputs": [
    {
     "data": {
      "text/plain": [
       "14505"
      ]
     },
     "execution_count": 22,
     "metadata": {},
     "output_type": "execute_result"
    }
   ],
   "source": [
    "len(set(sentences))"
   ]
  },
  {
   "cell_type": "code",
   "execution_count": 23,
   "id": "304b2159-0fa9-4940-bdd2-7f2ecae6636a",
   "metadata": {},
   "outputs": [],
   "source": [
    "# remove duplicates and NaN\n",
    "sentences = [word for word in list(set(sentences)) if type(word) is str]"
   ]
  },
  {
   "cell_type": "code",
   "execution_count": 27,
   "id": "fc6a4709-7fe9-493a-88da-a6858a9b106a",
   "metadata": {},
   "outputs": [],
   "source": [
    "# !pip install sentence_transformers"
   ]
  },
  {
   "cell_type": "code",
   "execution_count": 31,
   "id": "19934811-8676-4df4-9d97-5086d8b6c280",
   "metadata": {},
   "outputs": [],
   "source": [
    "from sentence_transformers import SentenceTransformer\n",
    "# initialize sentence transformer model\n",
    "# model = SentenceTransformer('bert-base-nli-mean-tokens')\n",
    "model = SentenceTransformer('D:/models/bert-base-nli-mean-tokens')"
   ]
  },
  {
   "cell_type": "code",
   "execution_count": null,
   "id": "2521cecf-ad53-4f17-ae44-9ac2711358a7",
   "metadata": {},
   "outputs": [],
   "source": [
    "%%time\n",
    "# create sentence embeddings\n",
    "sentence_embeddings = model.encode(sentences)\n",
    "sentence_embeddings.shape"
   ]
  },
  {
   "cell_type": "code",
   "execution_count": 48,
   "id": "97dea460-284a-4c6a-8f75-cdb06bdeb351",
   "metadata": {},
   "outputs": [],
   "source": [
    "import faiss"
   ]
  },
  {
   "cell_type": "code",
   "execution_count": 49,
   "id": "ccfe74e2-a5da-4479-8f39-406586f6a18e",
   "metadata": {},
   "outputs": [
    {
     "data": {
      "text/plain": [
       "768"
      ]
     },
     "execution_count": 49,
     "metadata": {},
     "output_type": "execute_result"
    }
   ],
   "source": [
    "d = sentence_embeddings.shape[1]\n",
    "d"
   ]
  },
  {
   "cell_type": "code",
   "execution_count": 50,
   "id": "2bef46e2-8122-4442-9a94-397fda26e5ed",
   "metadata": {},
   "outputs": [],
   "source": [
    "index = faiss.IndexFlatL2(d)"
   ]
  },
  {
   "cell_type": "code",
   "execution_count": 51,
   "id": "95e2fb35-d3f7-423a-882d-7ad943587a87",
   "metadata": {},
   "outputs": [
    {
     "data": {
      "text/plain": [
       "True"
      ]
     },
     "execution_count": 51,
     "metadata": {},
     "output_type": "execute_result"
    }
   ],
   "source": [
    "index.is_trained"
   ]
  },
  {
   "cell_type": "code",
   "execution_count": 52,
   "id": "361f1dcc-f4ac-471d-8431-13c133f92639",
   "metadata": {},
   "outputs": [],
   "source": [
    "index.add(sentence_embeddings)"
   ]
  },
  {
   "cell_type": "code",
   "execution_count": 53,
   "id": "9828a18c-d755-4e70-b407-1f9d6986804d",
   "metadata": {},
   "outputs": [
    {
     "data": {
      "text/plain": [
       "14504"
      ]
     },
     "execution_count": 53,
     "metadata": {},
     "output_type": "execute_result"
    }
   ],
   "source": [
    "index.ntotal"
   ]
  },
  {
   "cell_type": "code",
   "execution_count": 54,
   "id": "19939d1e-073f-4d0b-a750-79f4ca53d91c",
   "metadata": {},
   "outputs": [],
   "source": [
    "k = 4\n",
    "xq = model.encode([\"Someone sprints with a football\"])"
   ]
  },
  {
   "cell_type": "code",
   "execution_count": 81,
   "id": "92a3a249-36d4-4b36-92a6-4a2286d165d2",
   "metadata": {},
   "outputs": [
    {
     "name": "stdout",
     "output_type": "stream",
     "text": [
      "[[2612 5175 8188 1198]]\n",
      "CPU times: total: 0 ns\n",
      "Wall time: 5.6 ms\n"
     ]
    }
   ],
   "source": [
    "%%time\n",
    "D, I = index.search(xq, k)  # search\n",
    "print(I)"
   ]
  },
  {
   "cell_type": "code",
   "execution_count": 78,
   "id": "122eaf47-7959-4536-8fa2-69b1b8bf4f89",
   "metadata": {},
   "outputs": [
    {
     "name": "stdout",
     "output_type": "stream",
     "text": [
      "[[54.623783 54.853485 57.356243 57.90586 ]]\n"
     ]
    }
   ],
   "source": [
    "print(D)"
   ]
  },
  {
   "cell_type": "code",
   "execution_count": 91,
   "id": "0e1bdae1-a897-463a-9770-c0f0b0a84df8",
   "metadata": {},
   "outputs": [],
   "source": [
    "results = [sentences[i] for i in I.tolist()[0]]\n",
    "results"
   ]
  },
  {
   "cell_type": "code",
   "execution_count": 89,
   "id": "bd22191c-0e11-4ba4-97f4-19cb17e84718",
   "metadata": {},
   "outputs": [
    {
     "name": "stdout",
     "output_type": "stream",
     "text": [
      "[[2612, 5175, 8188, 1198]]\n"
     ]
    }
   ],
   "source": [
    "type(I.tolist())\n",
    "print(I.tolist())"
   ]
  },
  {
   "cell_type": "code",
   "execution_count": 31,
   "id": "6707f676-8c3f-4992-9de3-d545b11f6c37",
   "metadata": {},
   "outputs": [
    {
     "data": {
      "text/plain": [
       "0                         Small dog chews on a big stick.\n",
       "1                       A tennis player hitting the ball.\n",
       "2        a lone snowboarder in the middle of a snowy gust\n",
       "3              A pair of dogs playing with a purple ball.\n",
       "4                              a bird lands in the water.\n",
       "                              ...                        \n",
       "1495                 A man doing a trick on a skateboard.\n",
       "1496    A young girl in swim goggles does the backstro...\n",
       "1497                                A deer jumps a fence.\n",
       "1498    A young girl dressed in a Minnie mouse outfit ...\n",
       "1499                      a dog sprints across the water.\n",
       "Name: 1, Length: 1500, dtype: object"
      ]
     },
     "execution_count": 31,
     "metadata": {},
     "output_type": "execute_result"
    }
   ],
   "source": [
    "data[1]"
   ]
  },
  {
   "cell_type": "code",
   "execution_count": 33,
   "id": "3ba60c52-d41b-4cef-a553-88f0dc04b97a",
   "metadata": {},
   "outputs": [
    {
     "data": {
      "text/plain": [
       "['A black and white dog is chasing a ping Frisbee.',\n",
       " 'Two men in a running contest.',\n",
       " 'the selection of a lottery winner',\n",
       " 'the fashionable elite of a given community',\n",
       " 'A man in red and black is hitting a soccer ball with his head.']"
      ]
     },
     "execution_count": 33,
     "metadata": {},
     "output_type": "execute_result"
    }
   ],
   "source": [
    "sentences[:5]"
   ]
  },
  {
   "cell_type": "code",
   "execution_count": 73,
   "id": "1d9ca649-dd8e-474f-9408-c0a956799ff8",
   "metadata": {},
   "outputs": [
    {
     "ename": "IndexError",
     "evalue": "list index out of range",
     "output_type": "error",
     "traceback": [
      "\u001b[1;31m---------------------------------------------------------------------------\u001b[0m",
      "\u001b[1;31mIndexError\u001b[0m                                Traceback (most recent call last)",
      "Cell \u001b[1;32mIn[73], line 1\u001b[0m\n\u001b[1;32m----> 1\u001b[0m \u001b[43msentences\u001b[49m\u001b[43m[\u001b[49m\u001b[38;5;241;43m4586\u001b[39;49m\u001b[43m]\u001b[49m\n",
      "\u001b[1;31mIndexError\u001b[0m: list index out of range"
     ]
    }
   ],
   "source": [
    "sentences[4586]"
   ]
  },
  {
   "cell_type": "code",
   "execution_count": 72,
   "id": "2520b6a4-5d67-4002-b2cf-b7eb63903a84",
   "metadata": {},
   "outputs": [
    {
     "data": {
      "text/plain": [
       "0       A group of kids is playing in a yard and an ol...\n",
       "1       A group of children is playing in the house an...\n",
       "2       The young boys are playing outdoors and the ma...\n",
       "3       The kids are playing outdoors near a man with ...\n",
       "4       The young boys are playing outdoors and the ma...\n",
       "                              ...                        \n",
       "4495                      A door is being opened by a man\n",
       "4496                     Someone is boiling okra in a pot\n",
       "4497    The man is singing heartily and playing the gu...\n",
       "4498          A man in blue has a yellow ball in the mitt\n",
       "4499                 Three dogs are resting on a sidewalk\n",
       "Name: sentence_A, Length: 4500, dtype: object"
      ]
     },
     "execution_count": 72,
     "metadata": {},
     "output_type": "execute_result"
    }
   ],
   "source": [
    "data['sentence_A']"
   ]
  },
  {
   "cell_type": "code",
   "execution_count": null,
   "id": "4b7a77de-ca46-44cb-8b4c-6631008f9774",
   "metadata": {},
   "outputs": [],
   "source": []
  },
  {
   "cell_type": "code",
   "execution_count": null,
   "id": "fce36c3e-bdd4-403b-8491-3f4e05164bc8",
   "metadata": {},
   "outputs": [],
   "source": []
  },
  {
   "cell_type": "code",
   "execution_count": null,
   "id": "8be6e18a-dac0-486b-aba9-a9116f85e9c3",
   "metadata": {},
   "outputs": [],
   "source": []
  },
  {
   "cell_type": "code",
   "execution_count": null,
   "id": "a3c52b08-f332-4073-80f8-b7b62be10a13",
   "metadata": {},
   "outputs": [],
   "source": []
  },
  {
   "cell_type": "code",
   "execution_count": null,
   "id": "8529bc51-76b5-488e-9a9b-6e9278421696",
   "metadata": {},
   "outputs": [],
   "source": []
  },
  {
   "cell_type": "code",
   "execution_count": null,
   "id": "561bb8d8-c0e3-4557-808f-1fed71e1497e",
   "metadata": {},
   "outputs": [],
   "source": []
  },
  {
   "cell_type": "code",
   "execution_count": null,
   "id": "8ee8ff6e-e048-4451-a2df-d8148272e1b3",
   "metadata": {},
   "outputs": [],
   "source": []
  },
  {
   "cell_type": "code",
   "execution_count": null,
   "id": "d7563c08-4bc1-4761-81e7-37bd541abf33",
   "metadata": {},
   "outputs": [],
   "source": []
  },
  {
   "cell_type": "code",
   "execution_count": null,
   "id": "210b7974-c2e6-4ae9-a507-e68299e0d1ea",
   "metadata": {},
   "outputs": [],
   "source": []
  },
  {
   "cell_type": "code",
   "execution_count": null,
   "id": "800ba3d7-c7b1-4ae7-b23a-6ca5f45ceea6",
   "metadata": {},
   "outputs": [],
   "source": []
  }
 ],
 "metadata": {
  "kernelspec": {
   "display_name": "faiss-tutorial",
   "language": "python",
   "name": "faiss-tutorial"
  },
  "language_info": {
   "codemirror_mode": {
    "name": "ipython",
    "version": 3
   },
   "file_extension": ".py",
   "mimetype": "text/x-python",
   "name": "python",
   "nbconvert_exporter": "python",
   "pygments_lexer": "ipython3",
   "version": "3.12.3"
  }
 },
 "nbformat": 4,
 "nbformat_minor": 5
}
